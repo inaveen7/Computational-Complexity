{
 "cells": [
  {
   "cell_type": "markdown",
   "metadata": {},
   "source": [
    "### Finding an element O(log n) best time complexity"
   ]
  },
  {
   "cell_type": "code",
   "execution_count": 1,
   "metadata": {},
   "outputs": [
    {
     "name": "stdout",
     "output_type": "stream",
     "text": [
      "[64, 33, 25, 72, 49, 78, 79, 62, 70, 48, 28, 90, 57, 40, 0, 41, 66, 92, 86, 58, 80, 37, 16, 61, 71, 13, 34, 19, 55, 83, 39, 18, 56, 81, 95, 30, 15, 4, 35, 45, 51, 73, 14, 91, 65, 93, 97, 5, 36, 50, 76, 47, 27, 24, 22, 88, 96, 31, 26, 74, 1, 77, 82, 68, 9, 85, 2, 98, 42, 89, 10, 3, 52, 54, 12, 11, 84, 38, 63, 99, 7, 20, 53, 6, 23, 44, 67, 46, 69, 8, 32, 43, 21, 75, 60, 59, 17, 94, 87, 29]\n"
     ]
    }
   ],
   "source": [
    "import numpy as np\n",
    "import random\n",
    "\n",
    "l = list(range(100))\n",
    "random.shuffle(l)\n",
    "\n",
    "print(l)"
   ]
  },
  {
   "cell_type": "code",
   "execution_count": 2,
   "metadata": {},
   "outputs": [
    {
     "name": "stderr",
     "output_type": "stream",
     "text": [
      " 57%|█████▋    | 57/100 [00:00<?, ?it/s]"
     ]
    },
    {
     "name": "stdout",
     "output_type": "stream",
     "text": [
      "Found\n"
     ]
    },
    {
     "name": "stderr",
     "output_type": "stream",
     "text": [
      "\n"
     ]
    }
   ],
   "source": [
    "# search for an elemnt q in the list: O(n) where n is the length of the list\n",
    "# tqdm is a library that gives the visualized progess of a loop\n",
    "from tqdm import tqdm\n",
    "q = 31\n",
    "isFound=False;\n",
    "for ele in tqdm(l):\n",
    "    if ele==31:\n",
    "        print(\"Found\")\n",
    "        isFound=True\n",
    "        break;\n",
    "if isFound == False:\n",
    "    print(\"Not Found\")\n",
    "    \n",
    "    \n"
   ]
  },
  {
   "cell_type": "code",
   "execution_count": 3,
   "metadata": {},
   "outputs": [
    {
     "data": {
      "text/plain": [
       "32"
      ]
     },
     "execution_count": 3,
     "metadata": {},
     "output_type": "execute_result"
    }
   ],
   "source": [
    "#What if the list is sorted? Can we search faster?\n",
    "# Show O(log n)\n",
    "\n",
    "import math\n",
    "\n",
    "#Returns index of x in arr if present, else -1\n",
    "def binarySearch (arr, l, r, x):\n",
    " \n",
    "    # Check base case\n",
    "    if r >= l:\n",
    " \n",
    "        mid = l + math.floor((r - l)/2)\n",
    " \n",
    "        # If element is present at the middle itself\n",
    "        if arr[mid] == x:\n",
    "            return mid\n",
    "         \n",
    "        # If element is smaller than mid, then it can only\n",
    "        # be present in left subarray\n",
    "        elif arr[mid] > x:\n",
    "            return binarySearch(arr, l, mid-1, x)\n",
    " \n",
    "        # Else the element can only be present in right subarray\n",
    "        else:\n",
    "            return binarySearch(arr, mid+1, r, x)\n",
    " \n",
    "    else:\n",
    "        # Element is not present in the array\n",
    "        return -1\n",
    "\n",
    "\n",
    "l.sort();\n",
    "arr = l;\n",
    "q =32;\n",
    "binarySearch(arr,0,len(arr)-1,q)\n",
    "\n",
    "\n",
    "\n"
   ]
  },
  {
   "cell_type": "code",
   "execution_count": 4,
   "metadata": {},
   "outputs": [
    {
     "name": "stdout",
     "output_type": "stream",
     "text": [
      "4.83 µs ± 457 ns per loop (mean ± std. dev. of 7 runs, 100000 loops each)\n"
     ]
    }
   ],
   "source": [
    "%timeit binarySearch(arr,0,len(arr)-1,q)"
   ]
  },
  {
   "cell_type": "code",
   "execution_count": 7,
   "metadata": {},
   "outputs": [
    {
     "name": "stderr",
     "output_type": "stream",
     "text": [
      "100%|██████████| 100/100 [00:00<00:00, 25081.05it/s]"
     ]
    },
    {
     "name": "stdout",
     "output_type": "stream",
     "text": [
      "28\n",
      "23\n",
      "0\n",
      "20\n",
      "3\n",
      "44\n",
      "39\n",
      "47\n",
      "16\n",
      "18\n",
      "30\n",
      "1\n",
      "14\n",
      "35\n",
      "21\n",
      "27\n",
      "36\n",
      "41\n",
      "29\n",
      "49\n",
      "7\n",
      "2\n",
      "9\n",
      "5\n",
      "11\n",
      "34\n",
      "25\n",
      "19\n",
      "6\n",
      "17\n",
      "24\n",
      "15\n",
      "8\n",
      "31\n",
      "48\n",
      "46\n",
      "42\n",
      "40\n",
      "43\n",
      "37\n",
      "26\n",
      "4\n",
      "38\n",
      "45\n",
      "12\n",
      "22\n",
      "13\n",
      "33\n",
      "10\n",
      "32\n",
      "Number of common elements: 50\n"
     ]
    },
    {
     "name": "stderr",
     "output_type": "stream",
     "text": [
      "\n"
     ]
    }
   ],
   "source": [
    "# Find elements common in two lists:\n",
    "l1 = list(range(100))  # l1 --> n\n",
    "random.shuffle(l1)\n",
    "\n",
    "\n",
    "l2 = list(range(50))\n",
    "random.shuffle(l2)     # l2 --> m\n",
    "\n",
    "# total comparison will be (m+m+m---------- n times) = n*m\n",
    "# find common elements : O(n*m)\n",
    "cnt=0;\n",
    "for i in tqdm(l1):\n",
    "    for j in l2:\n",
    "        if i==j:\n",
    "            print(i)\n",
    "            cnt += 1;\n",
    "print(\"Number of common elements:\", cnt)                      "
   ]
  },
  {
   "cell_type": "code",
   "execution_count": 6,
   "metadata": {},
   "outputs": [
    {
     "name": "stderr",
     "output_type": "stream",
     "text": [
      "100%|██████████| 100/100 [00:00<00:00, 50069.28it/s]"
     ]
    },
    {
     "name": "stdout",
     "output_type": "stream",
     "text": [
      "46\n",
      "22\n",
      "24\n",
      "5\n",
      "49\n",
      "17\n",
      "26\n",
      "6\n",
      "33\n",
      "2\n",
      "15\n",
      "38\n",
      "12\n",
      "9\n",
      "27\n",
      "37\n",
      "19\n",
      "3\n",
      "30\n",
      "8\n",
      "39\n",
      "32\n",
      "14\n",
      "1\n",
      "11\n",
      "43\n",
      "29\n",
      "34\n",
      "7\n",
      "18\n",
      "21\n",
      "13\n",
      "40\n",
      "16\n",
      "44\n",
      "10\n",
      "31\n",
      "36\n",
      "28\n",
      "42\n",
      "20\n",
      "41\n",
      "25\n",
      "47\n",
      "23\n",
      "35\n",
      "48\n",
      "4\n",
      "0\n",
      "45\n",
      "Number of common elements: 50\n"
     ]
    },
    {
     "name": "stderr",
     "output_type": "stream",
     "text": [
      "\n"
     ]
    }
   ],
   "source": [
    "# Find elements common in two lists:\n",
    "l1 = list(range(100))\n",
    "random.shuffle(l1)\n",
    "\n",
    "\n",
    "l2 = list(range(50))\n",
    "random.shuffle(l2)\n",
    "\n",
    "# find common elemnts in lists in O(n) time and O(m) space if m<n\n",
    "\n",
    "## add all elements in the smallest list into a hashtable/Dict: O(m) space\n",
    "smallList = {}\n",
    "for ele in l2:  # O(m) --> time\n",
    "    smallList[ele] = 1; # any value is OK. Key is important       #O(m) --> space, as we are using extra space.\n",
    "    \n",
    "# Now find common element \n",
    "cnt=0;\n",
    "for i in tqdm(l1):   # O(n) --> time \n",
    "    if smallList.get(i) != None: # search happens in constant time.\n",
    "        print(i);\n",
    "        cnt += 1;\n",
    "print(\"Number of common elements:\", cnt)                      "
   ]
  },
  {
   "cell_type": "code",
   "execution_count": null,
   "metadata": {},
   "outputs": [],
   "source": []
  }
 ],
 "metadata": {
  "kernelspec": {
   "display_name": "Python 3",
   "language": "python",
   "name": "python3"
  },
  "language_info": {
   "codemirror_mode": {
    "name": "ipython",
    "version": 3
   },
   "file_extension": ".py",
   "mimetype": "text/x-python",
   "name": "python",
   "nbconvert_exporter": "python",
   "pygments_lexer": "ipython3",
   "version": "3.6.13"
  }
 },
 "nbformat": 4,
 "nbformat_minor": 2
}
